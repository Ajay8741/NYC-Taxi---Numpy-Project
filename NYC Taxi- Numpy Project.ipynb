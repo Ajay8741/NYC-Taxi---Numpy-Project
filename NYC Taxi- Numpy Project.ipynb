{
 "cells": [
  {
   "cell_type": "markdown",
   "id": "da2c1baa",
   "metadata": {},
   "source": [
    "# NYC Taxi - Numpy Project #"
   ]
  },
  {
   "cell_type": "markdown",
   "id": "76cb31b7",
   "metadata": {},
   "source": [
    "### Firstly import Numpy for all the Mathamatical Operations ###\n"
   ]
  },
  {
   "cell_type": "code",
   "execution_count": 1,
   "id": "b9900fe4",
   "metadata": {},
   "outputs": [],
   "source": [
    "import numpy as np"
   ]
  },
  {
   "cell_type": "markdown",
   "id": "d3127509",
   "metadata": {},
   "source": [
    "### Now import the nyc_taxis CSV file for the analysis ###"
   ]
  },
  {
   "cell_type": "code",
   "execution_count": 2,
   "id": "e31a24a5",
   "metadata": {},
   "outputs": [],
   "source": [
    "taxi = np.genfromtxt('nyc_taxis.csv', delimiter = ',', skip_header = True)"
   ]
  },
  {
   "cell_type": "markdown",
   "id": "eb4f5154",
   "metadata": {},
   "source": [
    "### Q1. Calculate the mean speed of the taxi? ###\n",
    "#### We need to saperately calculate the speed of th taxi as there is no particular column for speed of the taxi,for that the formula is:\n",
    "### Speed = Distance/Speed ###\n",
    "\n",
    "#### Note- We need to divide the column by 3600 as the data is in seconds. ####\n"
   ]
  },
  {
   "cell_type": "code",
   "execution_count": 3,
   "id": "b2e69430",
   "metadata": {},
   "outputs": [],
   "source": [
    "speed = taxi[:, 7]/ (taxi[:, 8]/3600)"
   ]
  },
  {
   "cell_type": "code",
   "execution_count": 4,
   "id": "10931924",
   "metadata": {},
   "outputs": [
    {
     "name": "stdout",
     "output_type": "stream",
     "text": [
      "{32.24258580925573}\n"
     ]
    }
   ],
   "source": [
    "mean_speed = speed.mean()\n",
    "print({mean_speed})\n"
   ]
  },
  {
   "cell_type": "markdown",
   "id": "df403b7a",
   "metadata": {},
   "source": [
    "### Q2. How many rides are taken in the month of February? ###\n",
    "\n",
    "#### Note- The code for the month of February is 2."
   ]
  },
  {
   "cell_type": "code",
   "execution_count": 5,
   "id": "465db56e",
   "metadata": {},
   "outputs": [
    {
     "name": "stdout",
     "output_type": "stream",
     "text": [
      "13333\n"
     ]
    }
   ],
   "source": [
    "rides_feb = taxi[taxi[:,1] == 2,1]\n",
    "print(rides_feb.shape[0])"
   ]
  },
  {
   "cell_type": "markdown",
   "id": "832b56e2",
   "metadata": {},
   "source": [
    "### Q3. How many tips are given that are more than 50? ###"
   ]
  },
  {
   "cell_type": "code",
   "execution_count": 6,
   "id": "a80d873a",
   "metadata": {},
   "outputs": [],
   "source": [
    "generous_tip = (taxi[taxi[:,12] > 50,12].shape[0])"
   ]
  },
  {
   "cell_type": "code",
   "execution_count": 7,
   "id": "573bbe5c",
   "metadata": {},
   "outputs": [
    {
     "data": {
      "text/plain": [
       "16"
      ]
     },
     "execution_count": 7,
     "metadata": {},
     "output_type": "execute_result"
    }
   ],
   "source": [
    "generous_tip"
   ]
  },
  {
   "cell_type": "markdown",
   "id": "678bcd62",
   "metadata": {},
   "source": [
    "### Q4. Number of rides when was JFK airport? ###\n",
    "\n",
    "#### Note- The code for the JFK airport is 2."
   ]
  },
  {
   "cell_type": "code",
   "execution_count": 8,
   "id": "8bf1b436",
   "metadata": {},
   "outputs": [
    {
     "name": "stdout",
     "output_type": "stream",
     "text": [
      "11832\n"
     ]
    }
   ],
   "source": [
    "JFK_dropoff = taxi[taxi[:,6] == 2,6]\n",
    "print(JFK_dropoff.shape[0])"
   ]
  },
  {
   "cell_type": "code",
   "execution_count": null,
   "id": "9a28ebc8",
   "metadata": {},
   "outputs": [],
   "source": []
  }
 ],
 "metadata": {
  "kernelspec": {
   "display_name": "Python 3 (ipykernel)",
   "language": "python",
   "name": "python3"
  },
  "language_info": {
   "codemirror_mode": {
    "name": "ipython",
    "version": 3
   },
   "file_extension": ".py",
   "mimetype": "text/x-python",
   "name": "python",
   "nbconvert_exporter": "python",
   "pygments_lexer": "ipython3",
   "version": "3.11.5"
  }
 },
 "nbformat": 4,
 "nbformat_minor": 5
}
